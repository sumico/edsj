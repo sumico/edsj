{
  "cells": [
    {
      "cell_type": "markdown",
      "metadata": {
        "id": "kbswCri5freT"
      },
      "source": [
        "Pythonの基本文法（変数・リスト型）/Basic python syntax (variables and list types)"
      ]
    },
    {
      "cell_type": "markdown",
      "source": [
        "変数定義（ = ）\n",
        "* プログラミング言語における変数とは、値に名前を付ける仕組みになります。\n",
        "* Pythonに限らずプログラミング言語全般で、**データを保存**しておくための変数というものが用意されています。\n",
        "* 変数は最初の文字がアルファベットか_であれば自由に名前をつけることができます。\n",
        "* 変数に値を代入するときには **=** (等号) の演算子を使います。\n",
        "---\n",
        "Variable definition ( = )\n",
        "* A variable in a programming language is a system for naming values.\n",
        "* Variables are used to **store data**, not only in Python, but in programming languages in general.\n",
        "* Variables can be freely named as long as the first letter is an alphabetic character or _.\n",
        "* Use **=** (equal sign) operator to assign a value to a variable."
      ],
      "metadata": {
        "id": "jpXaD_92sV25"
      }
    },
    {
      "cell_type": "code",
      "execution_count": null,
      "metadata": {
        "id": "juQa2f_mnsWa"
      },
      "outputs": [],
      "source": [
        "# numという変数名を定義します/Define the variable name num.\n",
        "\n",
        "num = 3"
      ]
    },
    {
      "cell_type": "markdown",
      "source": [
        "* 以上のように、 = を用いる構文によって、**3という値に num という名前が付きます**。これを**変数定義**と呼びます。\n",
        "* As shown above, the syntax using = **gives the value 3 the name num**. This is called **a variable definition**."
      ],
      "metadata": {
        "id": "7hHN8c9U5fth"
      }
    },
    {
      "cell_type": "code",
      "source": [
        "num"
      ],
      "metadata": {
        "id": "wWdjixoS7LG5",
        "colab": {
          "base_uri": "https://localhost:8080/"
        },
        "outputId": "a2a941b7-2a6e-4745-f338-917a80901daf"
      },
      "execution_count": null,
      "outputs": [
        {
          "output_type": "execute_result",
          "data": {
            "text/plain": [
              "3"
            ]
          },
          "metadata": {},
          "execution_count": 2
        }
      ]
    },
    {
      "cell_type": "markdown",
      "source": [
        "* **定義された変数は、式の中で使うことができます**。numという変数自体も式なので、numという式を評価することができ、変数が指し示す値が返ります。\n",
        "* **A defined variable can be used in an expression**. Since the variable num itself is also an expression, the expression num can be evaluated and the value pointed to by the variable will be returned."
      ],
      "metadata": {
        "id": "MIHcmGt970XY"
      }
    },
    {
      "cell_type": "markdown",
      "source": [
        "* Pythonで説明をコメントとして記述したり、不要なコードを**コメントアウト**したりする場合は#を使う。\n",
        "* コメントアウトとはソースコードを無効にすること\n",
        "---\n",
        "* In Python, use # to describe an explanation as a comment or to **comment out** unnecessary code.\n",
        "* Comment out means to invalidate the source code."
      ],
      "metadata": {
        "id": "FLeWnBTe8PFo"
      }
    },
    {
      "cell_type": "code",
      "source": [
        "# 文字を書く場合には、文字の前後を \"(ダブルクォテーション) か '(シングルクォテーション) で囲んで記述します。\n",
        "# When writing characters, enclose them with \" (double quotation marks) or ' (single quotation marks) before and after the character.\n",
        "moji = \"abc\""
      ],
      "metadata": {
        "id": "vCTF3l3suYQh"
      },
      "execution_count": null,
      "outputs": []
    },
    {
      "cell_type": "markdown",
      "source": [
        "* type()の()の中に変数名を⼊れることで、その変数のデータ型を確認できます。\n",
        "* intはinteger\n",
        "* strはstrings\n",
        "---\n",
        "* By entering the variable name in the () of type(), you can check the data type of the variable.\n",
        "* int is an integer\n",
        "* str is strings"
      ],
      "metadata": {
        "id": "pTkbszKhzUc4"
      }
    },
    {
      "cell_type": "markdown",
      "source": [
        "* Pythonにおける型とは、その変数に格納されているデータのタイプの事です。例えば、数値が格納されているなら**int型**、小数点が含まれているなら**float型**、文字列なら**str型**などがあります。\n",
        "* Pythonで型を調べるには、**type**という関数を使います。\n",
        "---\n",
        "* A type in Python is the type of data stored in that variable. For example, a variable can be of type **int** if it contains a number, **float** if it contains a decimal point, or **str** if it contains a string.\n",
        "* To find out the type in Python, use the function **type**."
      ],
      "metadata": {
        "id": "-Jg_babflsnU"
      }
    },
    {
      "cell_type": "markdown",
      "source": [
        "* 組み込み関数/Built-in Functions: https://docs.python.org/ja/3/library/functions.html\n"
      ],
      "metadata": {
        "id": "xHM8k2GNo3jT"
      }
    },
    {
      "cell_type": "code",
      "source": [
        "type(num)"
      ],
      "metadata": {
        "colab": {
          "base_uri": "https://localhost:8080/"
        },
        "id": "gUf75uhWzX_S",
        "outputId": "819cab53-3179-4239-c963-291b4742f4c4"
      },
      "execution_count": null,
      "outputs": [
        {
          "output_type": "execute_result",
          "data": {
            "text/plain": [
              "int"
            ]
          },
          "metadata": {},
          "execution_count": 4
        }
      ]
    },
    {
      "cell_type": "code",
      "source": [
        "type(moji)"
      ],
      "metadata": {
        "colab": {
          "base_uri": "https://localhost:8080/"
        },
        "id": "FwPU2bGFz3V4",
        "outputId": "cea3f449-25f0-42b6-9308-b7809d9e605c"
      },
      "execution_count": null,
      "outputs": [
        {
          "output_type": "execute_result",
          "data": {
            "text/plain": [
              "str"
            ]
          },
          "metadata": {},
          "execution_count": 5
        }
      ]
    },
    {
      "cell_type": "markdown",
      "source": [
        "* print()の()の中に**変数名**をいれると、**変数に代入されたデータを表示することができます**。\n",
        "\n",
        "* If you put **a variable name** in the () of print(), **you can display the data entered into the variable**."
      ],
      "metadata": {
        "id": "8rTVhEAavFiN"
      }
    },
    {
      "cell_type": "code",
      "source": [
        "print(num)\n",
        "print(moji)"
      ],
      "metadata": {
        "colab": {
          "base_uri": "https://localhost:8080/"
        },
        "id": "hAQpBL2tvQ1R",
        "outputId": "1da98402-aa20-4d01-8394-7a3d80e4809d"
      },
      "execution_count": null,
      "outputs": [
        {
          "output_type": "stream",
          "name": "stdout",
          "text": [
            "3\n",
            "abc\n"
          ]
        }
      ]
    },
    {
      "cell_type": "markdown",
      "source": [
        "リスト型（list）\n",
        "\n",
        "* 複数のデータを要素としてまとめて取り扱うデータとして、**リスト**について説明します。\n",
        "* 先ほどは変数にデータを保存しましたが、⼀つの変数に複数のデータを⼊れたい場合があります。そのときに使うのが リスト型（list)になります。\n",
        "---\n",
        "List type (list)\n",
        "\n",
        "* This section explains **list** as data that deals with multiple pieces of data as elements.\n",
        "* In the previous example, data was stored in a variable, but there are cases where you want to put multiple data into a single variable. In this case, the list type (list) is used."
      ],
      "metadata": {
        "id": "KCrjrkB7ud8g"
      }
    },
    {
      "cell_type": "markdown",
      "source": [
        "* 以下のセルでは数値を要素とするリストを作成して、変数に代入しています。 さらに、組み込み関数 type を用いて、変数の値がリストであることを確認しています。\n",
        "* In the following cell, a list with numeric elements is created and assigned to a variable. In addition, the built-in function type is used to ensure that the value of the variable is a list."
      ],
      "metadata": {
        "id": "Cm7UUiVo_3GS"
      }
    },
    {
      "cell_type": "code",
      "source": [
        "# リスト型の定義の仕方、鍵括弧を使います\n",
        "# How to define a list type, Use square brackets\n",
        "lst = [10, 20, 30, 40, 50]"
      ],
      "metadata": {
        "id": "TrHrn78Lu0KQ"
      },
      "execution_count": null,
      "outputs": []
    },
    {
      "cell_type": "code",
      "source": [
        "lst"
      ],
      "metadata": {
        "colab": {
          "base_uri": "https://localhost:8080/"
        },
        "id": "unWLH7-7_elt",
        "outputId": "8e211a1c-80bb-46b3-8678-54881dc0e7e2"
      },
      "execution_count": null,
      "outputs": [
        {
          "output_type": "execute_result",
          "data": {
            "text/plain": [
              "[10, 20, 30, 40, 50]"
            ]
          },
          "metadata": {},
          "execution_count": 8
        }
      ]
    },
    {
      "cell_type": "code",
      "source": [
        "type(lst)"
      ],
      "metadata": {
        "colab": {
          "base_uri": "https://localhost:8080/"
        },
        "id": "sRWii0rW_hvc",
        "outputId": "9839705f-b963-41e0-8991-fd0bff5227eb"
      },
      "execution_count": null,
      "outputs": [
        {
          "output_type": "execute_result",
          "data": {
            "text/plain": [
              "list"
            ]
          },
          "metadata": {},
          "execution_count": 9
        }
      ]
    },
    {
      "cell_type": "markdown",
      "source": [
        "* リストの中の各データを**要素**と呼びます。\n",
        "* 最初の要素には0、次の要素には1というように各要素にはインデックス（添字）と呼ばれる番号が自動的に振られています（インデックスの最初が0番から始まることに注意してください）そのインデックスを指定することで、リストの要素を取り出すことができます。\n",
        "---\n",
        "* Each piece of data in the list is called **an element**.\n",
        "* Each element is numbered automatically with an index, 0 for the first element, 1 for the next, and so on. (Note that the first index starts with 0.) By specifying the index, you can retrieve the elements of the list."
      ],
      "metadata": {
        "id": "jxFdp4YU1yfg"
      }
    },
    {
      "cell_type": "code",
      "source": [
        "# リストから3番目の要素を取り出す(3番目の要素の添字は2になる)\n",
        "# Takes out the third element from the list (the third element is indexed by 2)\n",
        "lst[2]"
      ],
      "metadata": {
        "colab": {
          "base_uri": "https://localhost:8080/"
        },
        "id": "vovGh-a32kvo",
        "outputId": "b695a64c-48e4-4a18-b33d-0940fd69a3b8"
      },
      "execution_count": null,
      "outputs": [
        {
          "output_type": "execute_result",
          "data": {
            "text/plain": [
              "30"
            ]
          },
          "metadata": {},
          "execution_count": 10
        }
      ]
    },
    {
      "cell_type": "markdown",
      "source": [
        "* listの後半の要素を取得したい場合などは、-(マイナス) を使ってインデックスを指定することで、最後から○番⽬の値を取得することができます。\n",
        "\n",
        "* If you want to get an element in the latter half of the list, you can use - (minus) to specify the index to get the XX-th value from the end."
      ],
      "metadata": {
        "id": "AJJ0scDB3aLA"
      }
    },
    {
      "cell_type": "code",
      "source": [
        "lst[-1]"
      ],
      "metadata": {
        "colab": {
          "base_uri": "https://localhost:8080/"
        },
        "id": "nzhgZTtQ2sFr",
        "outputId": "1a560ce9-128c-47db-9590-ee53fe1ac88d"
      },
      "execution_count": null,
      "outputs": [
        {
          "output_type": "execute_result",
          "data": {
            "text/plain": [
              "50"
            ]
          },
          "metadata": {},
          "execution_count": 11
        }
      ]
    },
    {
      "cell_type": "markdown",
      "source": [
        "スライス\n",
        "\n",
        "* Pythonではコロンを使って表す**スライス**（例: [2:5:2]）によって、リストなどのシーケンスオブジェクトの一部分を選択して取得したりできます。\n",
        "* パンをスライスすることに例えられます。\n",
        "* 数字のところでスライスします。下記のURLの図を参照。\n",
        "---\n",
        "Slice\n",
        "\n",
        "* In Python, **a slice** represented by a colon (e.g., [2:5:2]) allows you to select and retrieve a portion of a sequence object, such as a list.\n",
        "* It can be compared to slicing bread.\n",
        "* Slice at the numbers. See the figure in the URL below."
      ],
      "metadata": {
        "id": "pdFRTH-96s6A"
      }
    },
    {
      "cell_type": "markdown",
      "source": [
        "* スライシング/slicing: https://qiita.com/Mayumi_Pythonista/items/6bae214755dfeb8d7353"
      ],
      "metadata": {
        "id": "7SFveMhywxG7"
      }
    },
    {
      "cell_type": "markdown",
      "source": [
        "* スライスでは選択範囲の開始位置startと終了位置stopを[start:stop]のように書く。\n",
        "* In the slice, write the start position \"start\" and the end position \"stop\" of the selection as [start:stop]."
      ],
      "metadata": {
        "id": "CruNkyWgvj7D"
      }
    },
    {
      "cell_type": "markdown",
      "source": [
        "* スライス/Slice: https://docs.python.org/ja/3/library/functions.html#slice"
      ],
      "metadata": {
        "id": "3R9OBfYnwAQj"
      }
    },
    {
      "cell_type": "code",
      "source": [
        "# 1番目から3番目までのデータを取り出す\n",
        "# Extract the first through third data\n",
        "# list[最初のインデックス:最後のインデックス]\n",
        "# list[first index:last index]\n",
        "lst[1: 4]"
      ],
      "metadata": {
        "colab": {
          "base_uri": "https://localhost:8080/"
        },
        "id": "AOgTVEef6455",
        "outputId": "8006acd8-132a-40ea-ee4a-d76350f7f363"
      },
      "execution_count": null,
      "outputs": [
        {
          "output_type": "execute_result",
          "data": {
            "text/plain": [
              "[20, 30, 40]"
            ]
          },
          "metadata": {},
          "execution_count": 12
        }
      ]
    },
    {
      "cell_type": "markdown",
      "source": [
        "* 注釈︓ スライシングで範囲指定した際に、左端の要素は含みますが、右端の要素は含まれないことに注意してください。\n",
        "* Note ︓ Note that when a range is specified with slicing, the leftmost element is included, but the rightmost element is not."
      ],
      "metadata": {
        "id": "gY_y57057Hbo"
      }
    },
    {
      "cell_type": "code",
      "source": [
        "# 最初から4番目の要素まで取り出す\n",
        "# Extract up to the fourth element from the first\n",
        "lst[: 4]"
      ],
      "metadata": {
        "colab": {
          "base_uri": "https://localhost:8080/"
        },
        "id": "LmGeUP7I7cYI",
        "outputId": "d39d108c-58ec-4492-8850-c37f28f15b73"
      },
      "execution_count": null,
      "outputs": [
        {
          "output_type": "execute_result",
          "data": {
            "text/plain": [
              "[10, 20, 30, 40]"
            ]
          },
          "metadata": {},
          "execution_count": 13
        }
      ]
    },
    {
      "cell_type": "code",
      "source": [
        "# 3番目の要素から最後の要素まで取り出す\n",
        "# Extract from the third element to the last element\n",
        "lst[2: ]"
      ],
      "metadata": {
        "colab": {
          "base_uri": "https://localhost:8080/"
        },
        "id": "1YseFm8f7c0t",
        "outputId": "76980b3e-b104-46df-8c84-36ba98777767"
      },
      "execution_count": null,
      "outputs": [
        {
          "output_type": "execute_result",
          "data": {
            "text/plain": [
              "[30, 40, 50]"
            ]
          },
          "metadata": {},
          "execution_count": 14
        }
      ]
    }
  ],
  "metadata": {
    "colab": {
      "provenance": []
    },
    "kernelspec": {
      "display_name": "Python 3",
      "language": "python",
      "name": "python3"
    },
    "language_info": {
      "codemirror_mode": {
        "name": "ipython",
        "version": 3
      },
      "file_extension": ".py",
      "mimetype": "text/x-python",
      "name": "python",
      "nbconvert_exporter": "python",
      "pygments_lexer": "ipython3",
      "version": "3.7.9"
    }
  },
  "nbformat": 4,
  "nbformat_minor": 0
}