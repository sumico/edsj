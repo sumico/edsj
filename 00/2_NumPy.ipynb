{
  "cells": [
    {
      "cell_type": "markdown",
      "metadata": {
        "id": "3-ewqmV8hszX"
      },
      "source": [
        "NumPyの基礎\n",
        "* PythonにはNumPyという便利なライブラリがあります。\n",
        "* NumPyを利⽤すると、Python標準のリスト型に⽐べて、**多次元配列のデータ**を効率よく扱うことができます。\n",
        "* NumPyは標準偏差や分散といった統計量を出⼒してくれる関数が⽤意されており、科学技術計算の基盤となっています。\n",
        "---\n",
        "NumPy basics\n",
        "* Python has a useful library called NumPy.\n",
        "* Using NumPy, you can handle **multidimensional array data** more efficiently than the standard Python list type.\n",
        "* NumPy provides functions to output statistics such as standard deviation and variance, and is the basis for scientific and technical calculations."
      ]
    },
    {
      "cell_type": "markdown",
      "source": [
        "NumPy を使う準備\n",
        "* Numpyを利⽤するには、まず次のようにインポートを行います。\n",
        "* モジュール名が長い場合は、**import A as B** のようにして別名を付けることができます。\n",
        "---\n",
        "Prepare to use NumPy\n",
        "* To use Numpy, first import as follows.\n",
        "* If the module name is long, it can be aliased as **import A as B**."
      ],
      "metadata": {
        "id": "uf-VyTE9mamj"
      }
    },
    {
      "cell_type": "code",
      "execution_count": null,
      "metadata": {
        "id": "YGm0nN_vuWfY"
      },
      "outputs": [],
      "source": [
        "# Numpyライブラリをnpという別名で使用できるように宣言する\n",
        "# Declare the Numpy library to be available under the alias np\n",
        "\n",
        "import numpy as np"
      ]
    },
    {
      "cell_type": "markdown",
      "source": [
        "多次元配列を定義する\n",
        "\n",
        "* ベクトル・行列・テンソルなどは、プログラミング上は多次元配列により表現でき、NumPy では **ndarray** というクラスで多次元配列を表現します。\n",
        "* ndarrayは一見すると、Python標準のリスト型（list）と似ていますが、ベクトルや⾏列のように、内部の要素を⼀括して計算できる便利な機能があります。\n",
        "* 配列 - array\n",
        "* 多次元配列 - numpy.ndarray\n",
        "---\n",
        "Define multidimensional array\n",
        "\n",
        "* Vectors, matrices, and tensors can be programmatically represented by multidimensional arrays, and NumPy uses a class called **ndarray** to represent multidimensional arrays.\n",
        "* At first glance, ndarray looks similar to the standard Python list type (list), but it has the useful feature of being able to compute all of its internal elements together, like a vector or an array.\n",
        "* Arrays - array\n",
        "* Multidimensional arrays - numpy.ndarray"
      ],
      "metadata": {
        "id": "8t0y4BnvoGgL"
      }
    },
    {
      "cell_type": "markdown",
      "source": [
        "* ベクトル・行列・テンソル/Vectors, Matrices, Tensors: https://www.sbbit.jp/article/cont1/63580"
      ],
      "metadata": {
        "id": "riaxnYJs2fRb"
      }
    },
    {
      "cell_type": "markdown",
      "source": [
        "numpy.array: https://numpy.org/doc/stable/reference/generated/numpy.array.html\n",
        "\n",
        "np.array() 関数による生成\n",
        "* np.array(object, dtype=None)最初の引数 object には、配列の内容を与えます。\n",
        "* 要素が 1, 2, 3 である長さ 3 の**ベクトル**の例です。\n",
        "---\n",
        "Generation by np.array() function\n",
        "* np.array(object, dtype=None)The first argument object is the contents of the array.\n",
        "* Here is an example of a **vector** of length 3 with elements 1, 2, 3."
      ],
      "metadata": {
        "id": "HiU6J7rWMxBP"
      }
    },
    {
      "cell_type": "code",
      "source": [
        "# ベクトルの定義\n",
        "# Define vector\n",
        "\n",
        "ary = np.array([1, 2, 3])\n",
        "\n",
        "ary"
      ],
      "metadata": {
        "colab": {
          "base_uri": "https://localhost:8080/"
        },
        "id": "EqNBjOWKo9eF",
        "outputId": "2201f02c-957e-43aa-a4b8-d69e1d793e63"
      },
      "execution_count": null,
      "outputs": [
        {
          "output_type": "execute_result",
          "data": {
            "text/plain": [
              "array([1, 2, 3])"
            ]
          },
          "metadata": {},
          "execution_count": 2
        }
      ]
    },
    {
      "cell_type": "markdown",
      "source": [
        "* リスト [1, 2, 3] を np.array() に渡すことで、[1,2,3]\n",
        " という**ベクトル**を表す ndarray オブジェクトを作ることができます。\n",
        "* By passing the list [1, 2, 3] to np.array(), we can create an ndarray object that represents **a vector** [1,2,3]."
      ],
      "metadata": {
        "id": "zsg7LA-4Vr-k"
      }
    },
    {
      "cell_type": "markdown",
      "source": [
        "numpy.ndarray: https://numpy.org/doc/stable/reference/generated/numpy.ndarray.html\n",
        "\n",
        "numpy.arrayとnumpy.ndarrayの違い\n",
        "\n",
        "* numpy.arrayは、numpy.ndarrayを作成するための関数です。\n",
        "* numpy.ndarrayは、numpyというライブラリが提供する配列です。ndarrayのndは、”N dimension”の省略で、配列を意味する”array”と組み合わせ、「N次元配列」という意味になります。\n",
        "---\n",
        "Difference between numpy.array and numpy.ndarray\n",
        "\n",
        "* numpy.array is a function to create a numpy.ndarray.\n",
        "* ndarray is an array provided by the numpy library. The \"nd\" in ndarray is an abbreviation of \"N dimension,\" and combined with \"array\" meaning an array, it means \"N-dimensional array."
      ],
      "metadata": {
        "id": "-ALtXH3y8WwD"
      }
    },
    {
      "cell_type": "code",
      "source": [
        "# display()はdataframe形式の表のレイアウトを保持してくれます。\n",
        "# display() preserves the layout of the table in dataframe format.\n",
        "\n",
        "display( type(ary) )\n",
        "display( ary )"
      ],
      "metadata": {
        "id": "3_m1ThqSNyl-",
        "colab": {
          "base_uri": "https://localhost:8080/",
          "height": 54
        },
        "outputId": "f0b056dc-efab-4aa0-f2a3-6c6a4a5efdbd"
      },
      "execution_count": null,
      "outputs": [
        {
          "output_type": "display_data",
          "data": {
            "text/plain": [
              "numpy.ndarray"
            ]
          },
          "metadata": {}
        },
        {
          "output_type": "display_data",
          "data": {
            "text/plain": [
              "array([1, 2, 3])"
            ]
          },
          "metadata": {}
        }
      ]
    },
    {
      "cell_type": "code",
      "source": [
        "# aryのすべての要素に5をかける\n",
        "# Multiply all elements of ary by 5\n",
        "\n",
        "ary * 5"
      ],
      "metadata": {
        "colab": {
          "base_uri": "https://localhost:8080/"
        },
        "id": "1f1vX-6h8VfB",
        "outputId": "92554832-af50-4e77-9240-de4bc36c3952"
      },
      "execution_count": null,
      "outputs": [
        {
          "output_type": "execute_result",
          "data": {
            "text/plain": [
              "array([ 5, 10, 15])"
            ]
          },
          "metadata": {},
          "execution_count": 4
        }
      ]
    },
    {
      "cell_type": "markdown",
      "source": [
        "* ちなみに同じことをPython標準の**リスト型**でやろうとすると、全く結果が異なることを確認してみましょう。\n",
        "* By the way, let's check that if you try to do the same thing with the standard Python **list type**, the results will be completely different."
      ],
      "metadata": {
        "id": "u-yprBcV8pd9"
      }
    },
    {
      "cell_type": "code",
      "source": [
        "# リスト型の定義の仕方\n",
        "# How to define list type\n",
        "\n",
        "lst = [1, 2, 3 ]\n",
        "lst * 5"
      ],
      "metadata": {
        "colab": {
          "base_uri": "https://localhost:8080/"
        },
        "id": "jYK7E5kc8aiq",
        "outputId": "ee963f60-e9b3-4fee-b74b-1b17ba144efd"
      },
      "execution_count": null,
      "outputs": [
        {
          "output_type": "execute_result",
          "data": {
            "text/plain": [
              "[1, 2, 3, 1, 2, 3, 1, 2, 3, 1, 2, 3, 1, 2, 3]"
            ]
          },
          "metadata": {},
          "execution_count": 5
        }
      ]
    },
    {
      "cell_type": "markdown",
      "source": [
        "* なお、前述の ary * 5 では、ary内部の値を更新していませんので、もう⼀度ary の中⾝を表⽰させると、[5,10,15]ではなく、[1,2,3]のままなのが確認できます。\n",
        "* Note that the ary * 5 described above does not update the values inside the ary, so when the ary nave is displayed again, you can see that the values are still [1,2,3] instead of [5,10,15]."
      ],
      "metadata": {
        "id": "p5tkkxCK9kiZ"
      }
    },
    {
      "cell_type": "code",
      "source": [
        "ary"
      ],
      "metadata": {
        "colab": {
          "base_uri": "https://localhost:8080/"
        },
        "id": "vC-5JSYK82Dp",
        "outputId": "311de73e-1a07-442a-e6df-3265290ad811"
      },
      "execution_count": null,
      "outputs": [
        {
          "output_type": "execute_result",
          "data": {
            "text/plain": [
              "array([1, 2, 3])"
            ]
          },
          "metadata": {},
          "execution_count": 6
        }
      ]
    },
    {
      "cell_type": "markdown",
      "source": [
        "* ary内部の値を更新するには、以下のように = を使って、新たな値を代⼊してあげる必要があります。\n",
        "* To update the value inside the ary, a new value must be assigned using = as shown below."
      ],
      "metadata": {
        "id": "XWT4zWeV99mQ"
      }
    },
    {
      "cell_type": "code",
      "source": [
        "ary = ary * 5\n",
        "ary"
      ],
      "metadata": {
        "colab": {
          "base_uri": "https://localhost:8080/"
        },
        "id": "gYgKlTH89z9p",
        "outputId": "23085705-981f-47f6-eff0-ce1c7842dcc6"
      },
      "execution_count": null,
      "outputs": [
        {
          "output_type": "execute_result",
          "data": {
            "text/plain": [
              "array([ 5, 10, 15])"
            ]
          },
          "metadata": {},
          "execution_count": 7
        }
      ]
    },
    {
      "cell_type": "markdown",
      "source": [
        "NumPyでの基礎統計量\n",
        "\n",
        "* 通常、標準偏差などを計算したい場合は自分で実装する必要がありますが、Numpyは基本的な統計量を計算する関数を用意しています。\n",
        "---\n",
        "Basic statistics in NumPy\n",
        "\n",
        "* Normally, if you want to calculate standard deviations, etc., you need to implement the functions yourself. Numpy provides functions to calculate basic statistics."
      ],
      "metadata": {
        "id": "idfSGzzu-c-Q"
      }
    },
    {
      "cell_type": "markdown",
      "source": [
        "連番を生成する\n",
        "\n",
        "* 連番要素を含むndarrayを生成するとき、Pythonのrangeを使用できます。\n",
        "---\n",
        "How to generate sequential numbers\n",
        "\n",
        "* When generating ndarrays containing sequentially numbered elements, Python's range can be used."
      ],
      "metadata": {
        "id": "gfkSeJne19eW"
      }
    },
    {
      "cell_type": "code",
      "source": [
        "# range関数で0～9までの連続した整数値を生成する\n",
        "# Generate consecutive integer values from 0 to 9 with the range function.\n",
        "\n",
        "ary = np.array(range(10))\n",
        "ary"
      ],
      "metadata": {
        "colab": {
          "base_uri": "https://localhost:8080/"
        },
        "id": "oCqIUb-x-X3x",
        "outputId": "e0aa97fc-4656-4855-c171-bd56a991fbab"
      },
      "execution_count": null,
      "outputs": [
        {
          "output_type": "execute_result",
          "data": {
            "text/plain": [
              "array([0, 1, 2, 3, 4, 5, 6, 7, 8, 9])"
            ]
          },
          "metadata": {},
          "execution_count": 8
        }
      ]
    },
    {
      "cell_type": "markdown",
      "source": [
        "numpy.mean: https://numpy.org/doc/stable/reference/generated/numpy.mean.html\n",
        "* numpy.mean()を使うとndarrayの平均値を求められる。\n",
        "* Using numpy.mean(), the mean value of ndarray can be obtained."
      ],
      "metadata": {
        "id": "QcZZWtkfACak"
      }
    },
    {
      "cell_type": "code",
      "source": [
        "# aryの平均値\n",
        "# Average value of ary\n",
        "\n",
        "np.mean(ary)"
      ],
      "metadata": {
        "colab": {
          "base_uri": "https://localhost:8080/"
        },
        "id": "CUh3wg5d-HC-",
        "outputId": "bc509d5e-8de9-45d4-e86d-eb05b5086876"
      },
      "execution_count": null,
      "outputs": [
        {
          "output_type": "execute_result",
          "data": {
            "text/plain": [
              "4.5"
            ]
          },
          "metadata": {},
          "execution_count": 9
        }
      ]
    },
    {
      "cell_type": "markdown",
      "source": [
        "numpy.var: https://numpy.org/doc/stable/reference/generated/numpy.var.html\n",
        "* numpy.var()を使うとndarrayの分散を求められる。\n",
        "* Using numpy.var(), the variance of ndarray can be obtained."
      ],
      "metadata": {
        "id": "rMgC67F5_r_e"
      }
    },
    {
      "cell_type": "code",
      "source": [
        "# aryの分散\n",
        "# ary variance\n",
        "\n",
        "np.var(ary)"
      ],
      "metadata": {
        "colab": {
          "base_uri": "https://localhost:8080/"
        },
        "id": "K76JpNan-9yM",
        "outputId": "beacefee-b9f4-41f0-e69a-de55b9874506"
      },
      "execution_count": null,
      "outputs": [
        {
          "output_type": "execute_result",
          "data": {
            "text/plain": [
              "8.25"
            ]
          },
          "metadata": {},
          "execution_count": 10
        }
      ]
    },
    {
      "cell_type": "markdown",
      "source": [
        "numpy.std: https://numpy.org/doc/stable/reference/generated/numpy.std.html\n",
        "* numpy.std()を使うとndarrayの標準偏差を求められる。\n",
        "* Using numpy.std(), the standard deviation of ndarray can be obtained."
      ],
      "metadata": {
        "id": "Jy55JoueAmfb"
      }
    },
    {
      "cell_type": "code",
      "source": [
        "# aryの標準偏差\n",
        "# Standard deviation of ary\n",
        "\n",
        "np.std(ary)"
      ],
      "metadata": {
        "colab": {
          "base_uri": "https://localhost:8080/"
        },
        "id": "eimwyT4kAss4",
        "outputId": "3f82ea6f-b4ac-485c-c640-6da77ccfbde4"
      },
      "execution_count": null,
      "outputs": [
        {
          "output_type": "execute_result",
          "data": {
            "text/plain": [
              "2.8722813232690143"
            ]
          },
          "metadata": {},
          "execution_count": 11
        }
      ]
    },
    {
      "cell_type": "markdown",
      "source": [
        "* numpy.min()を使うとndarrayの最小を求められる。\n",
        "* Using numpy.min(), the minimum of ndarray can be obtained."
      ],
      "metadata": {
        "id": "tKqmZcywozCc"
      }
    },
    {
      "cell_type": "code",
      "source": [
        "# aryの最小値\n",
        "# Minimum value of ary\n",
        "\n",
        "np.min(ary)"
      ],
      "metadata": {
        "colab": {
          "base_uri": "https://localhost:8080/"
        },
        "id": "0ZodsZvvBBLL",
        "outputId": "a63f24b0-0934-43aa-f7e2-86b79cd6c9c5"
      },
      "execution_count": null,
      "outputs": [
        {
          "output_type": "execute_result",
          "data": {
            "text/plain": [
              "0"
            ]
          },
          "metadata": {},
          "execution_count": 12
        }
      ]
    },
    {
      "cell_type": "markdown",
      "source": [
        "* numpy.max()を使うとndarrayの最大を求められる。\n",
        "* Using numpy.max(), the maximum of ndarray can be obtained."
      ],
      "metadata": {
        "id": "e5xU6KrnpE8j"
      }
    },
    {
      "cell_type": "code",
      "source": [
        "# aryの最大値\n",
        "# Maximum value of ary\n",
        "\n",
        "np.max(ary)"
      ],
      "metadata": {
        "colab": {
          "base_uri": "https://localhost:8080/"
        },
        "id": "B-7ja4xrBJyk",
        "outputId": "484f532e-b993-4990-c3d1-c1cc0fd19dc8"
      },
      "execution_count": null,
      "outputs": [
        {
          "output_type": "execute_result",
          "data": {
            "text/plain": [
              "9"
            ]
          },
          "metadata": {},
          "execution_count": 13
        }
      ]
    }
  ],
  "metadata": {
    "colab": {
      "provenance": []
    },
    "kernelspec": {
      "display_name": "Python 3",
      "language": "python",
      "name": "python3"
    },
    "language_info": {
      "codemirror_mode": {
        "name": "ipython",
        "version": 3
      },
      "file_extension": ".py",
      "mimetype": "text/x-python",
      "name": "python",
      "nbconvert_exporter": "python",
      "pygments_lexer": "ipython3",
      "version": "3.7.2"
    }
  },
  "nbformat": 4,
  "nbformat_minor": 0
}